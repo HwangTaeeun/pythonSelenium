{
 "cells": [
  {
   "cell_type": "code",
   "execution_count": 1,
   "metadata": {},
   "outputs": [],
   "source": [
    "from selenium import webdriver"
   ]
  },
  {
   "cell_type": "code",
   "execution_count": 2,
   "metadata": {},
   "outputs": [],
   "source": [
    "from selenium.webdriver import ActionChains"
   ]
  },
  {
   "cell_type": "code",
   "execution_count": 3,
   "metadata": {},
   "outputs": [],
   "source": [
    "import time"
   ]
  },
  {
   "cell_type": "code",
   "execution_count": 4,
   "metadata": {},
   "outputs": [],
   "source": [
    "import json"
   ]
  },
  {
   "cell_type": "code",
   "execution_count": 5,
   "metadata": {},
   "outputs": [],
   "source": [
    "options = webdriver.ChromeOptions()"
   ]
  },
  {
   "cell_type": "code",
   "execution_count": 6,
   "metadata": {},
   "outputs": [],
   "source": [
    "# mobile_emulation = {\"deviceName\" : \"Nexus 5\"}"
   ]
  },
  {
   "cell_type": "code",
   "execution_count": 7,
   "metadata": {},
   "outputs": [],
   "source": [
    "# options.add_experimental_option(\"mobileEmulation\", mobile_emulation)"
   ]
  },
  {
   "cell_type": "code",
   "execution_count": 8,
   "metadata": {
    "scrolled": true
   },
   "outputs": [],
   "source": [
    "# driver = webdriver.Chrome('C:/Users/user/miniconda3/envs/chromedriver.exe', chrome_options = options)"
   ]
  },
  {
   "cell_type": "code",
   "execution_count": 9,
   "metadata": {},
   "outputs": [],
   "source": [
    "driver = webdriver.Chrome('chromedriver.exe')"
   ]
  },
  {
   "cell_type": "code",
   "execution_count": 10,
   "metadata": {},
   "outputs": [],
   "source": [
    "time.sleep(1)"
   ]
  },
  {
   "cell_type": "code",
   "execution_count": 27,
   "metadata": {},
   "outputs": [],
   "source": [
    "keyword = '스트레칭'"
   ]
  },
  {
   "cell_type": "code",
   "execution_count": 28,
   "metadata": {},
   "outputs": [],
   "source": [
    "driver.get(\"https://s.search.naver.com/p/influencer/search.naver?query=%23\" + keyword +\"%20&view=ranking&where=bridge\")"
   ]
  },
  {
   "cell_type": "code",
   "execution_count": 30,
   "metadata": {},
   "outputs": [],
   "source": [
    "serviceImg = driver.find_element_by_class_name('ico_logo')"
   ]
  },
  {
   "cell_type": "code",
   "execution_count": 31,
   "metadata": {},
   "outputs": [],
   "source": [
    "action = ActionChains(driver)"
   ]
  },
  {
   "cell_type": "code",
   "execution_count": 32,
   "metadata": {},
   "outputs": [],
   "source": [
    "for i in range(1, 10, 1):\n",
    "    tmp = driver.find_elements_by_class_name('user_thumb_wrap')\n",
    "    if len(tmp)%10  == 0:\n",
    "        action.move_to_element(serviceImg).perform()\n",
    "        time.sleep(2)\n",
    "    else:\n",
    "        len(tmp)\n",
    "        break\n",
    "    "
   ]
  },
  {
   "cell_type": "code",
   "execution_count": 33,
   "metadata": {
    "scrolled": true
   },
   "outputs": [],
   "source": [
    "# len(tmp)"
   ]
  },
  {
   "cell_type": "code",
   "execution_count": 43,
   "metadata": {
    "scrolled": true
   },
   "outputs": [],
   "source": [
    "tmp = driver.find_elements_by_class_name('user_thumb_wrap')"
   ]
  },
  {
   "cell_type": "code",
   "execution_count": 35,
   "metadata": {},
   "outputs": [],
   "source": [
    "ihrefs = [c.get_attribute(\"href\") for c in tmp]"
   ]
  },
  {
   "cell_type": "code",
   "execution_count": 36,
   "metadata": {},
   "outputs": [],
   "source": [
    "influencerList = []"
   ]
  },
  {
   "cell_type": "code",
   "execution_count": 37,
   "metadata": {},
   "outputs": [],
   "source": [
    "# 이메일인지 확실치 않음\n",
    "# influencerEmails = driver.find_elements_by_css_selector(\"a[aria-current='page']\")\n",
    "# influencerEmail = f\"{str(influencerEmails[0].get_attribute('href'))}@naver.com\".replace(\"https://in.naver.com/\",\"\")"
   ]
  },
  {
   "cell_type": "code",
   "execution_count": 38,
   "metadata": {},
   "outputs": [],
   "source": [
    "def crawl_influencerInfo(rank):\n",
    "    influencerNick = str(driver.find_element_by_css_selector(\".naver-splugin\").get_attribute('data-title'))\n",
    "    influencerSpan = driver.find_elements_by_css_selector('div[class*=\"ProfileContent__stats\"] span')\n",
    "    todayVisitor = influencerSpan[0].text\n",
    "    totalVisitor = influencerSpan[1].text\n",
    "    fans = influencerSpan[2].text\n",
    "    influencerInfo = {\"rank\" : rank ,\"nick\" : influencerNick , \"todayVisitor\" : todayVisitor, \"totalVisitor\" : totalVisitor, \"fans\" : fans}\n",
    "    influencerList.append(influencerInfo)"
   ]
  },
  {
   "cell_type": "code",
   "execution_count": 39,
   "metadata": {},
   "outputs": [],
   "source": [
    "for idx, c in enumerate(ihrefs):\n",
    "    rank = idx + 1\n",
    "    driver.get(c)\n",
    "    crawl_influencerInfo(rank)\n",
    "    time.sleep(4)"
   ]
  },
  {
   "cell_type": "code",
   "execution_count": 40,
   "metadata": {
    "scrolled": false
   },
   "outputs": [
    {
     "data": {
      "text/plain": [
       "[{'rank': 1,\n",
       "  'nick': '소피 요가 (Sophie yoga)',\n",
       "  'todayVisitor': '35',\n",
       "  'totalVisitor': '4.9만+',\n",
       "  'fans': '2,826'},\n",
       " {'rank': 2,\n",
       "  'nick': '햇지',\n",
       "  'todayVisitor': '64',\n",
       "  'totalVisitor': '5.8만+',\n",
       "  'fans': '5,551'},\n",
       " {'rank': 3,\n",
       "  'nick': '김뽀마미',\n",
       "  'todayVisitor': '21',\n",
       "  'totalVisitor': '7.9만+',\n",
       "  'fans': '5,391'},\n",
       " {'rank': 4,\n",
       "  'nick': '지니몬',\n",
       "  'todayVisitor': '64',\n",
       "  'totalVisitor': '3.8만+',\n",
       "  'fans': '5,287'},\n",
       " {'rank': 5,\n",
       "  'nick': '체조쟁이',\n",
       "  'todayVisitor': '24',\n",
       "  'totalVisitor': '1.8만+',\n",
       "  'fans': '1,793'},\n",
       " {'rank': 6,\n",
       "  'nick': '프로홍트',\n",
       "  'todayVisitor': '55',\n",
       "  'totalVisitor': '3.5만+',\n",
       "  'fans': '3,958'},\n",
       " {'rank': 7,\n",
       "  'nick': '메디힐필라테스',\n",
       "  'todayVisitor': '45',\n",
       "  'totalVisitor': '2.9만+',\n",
       "  'fans': '4,054'},\n",
       " {'rank': 8,\n",
       "  'nick': '사이클선수 김마리',\n",
       "  'todayVisitor': '5',\n",
       "  'totalVisitor': '1만+',\n",
       "  'fans': '2,844'},\n",
       " {'rank': 9,\n",
       "  'nick': '요가테라스',\n",
       "  'todayVisitor': '26',\n",
       "  'totalVisitor': '3만+',\n",
       "  'fans': '1,386'},\n",
       " {'rank': 10,\n",
       "  'nick': '부천피티 요무브 남요한',\n",
       "  'todayVisitor': '27',\n",
       "  'totalVisitor': '1.6만+',\n",
       "  'fans': '1,900'},\n",
       " {'rank': 11,\n",
       "  'nick': '김사과',\n",
       "  'todayVisitor': '100',\n",
       "  'totalVisitor': '10만+',\n",
       "  'fans': '2,821'},\n",
       " {'rank': 12,\n",
       "  'nick': '요가은',\n",
       "  'todayVisitor': '6',\n",
       "  'totalVisitor': '1,559',\n",
       "  'fans': '1,632'},\n",
       " {'rank': 13,\n",
       "  'nick': '몽실이폴댄스',\n",
       "  'todayVisitor': '9',\n",
       "  'totalVisitor': '1.1만+',\n",
       "  'fans': '4,958'},\n",
       " {'rank': 14,\n",
       "  'nick': '써니엄마',\n",
       "  'todayVisitor': '26',\n",
       "  'totalVisitor': '3.1만+',\n",
       "  'fans': '2,316'},\n",
       " {'rank': 15,\n",
       "  'nick': '자세요정',\n",
       "  'todayVisitor': '74',\n",
       "  'totalVisitor': '3.9만+',\n",
       "  'fans': '1,975'},\n",
       " {'rank': 16,\n",
       "  'nick': '발레핏 육아맘',\n",
       "  'todayVisitor': '0',\n",
       "  'totalVisitor': '1,360',\n",
       "  'fans': '1,474'},\n",
       " {'rank': 17,\n",
       "  'nick': '삐약스핏',\n",
       "  'todayVisitor': '10',\n",
       "  'totalVisitor': '1만+',\n",
       "  'fans': '982'},\n",
       " {'rank': 18,\n",
       "  'nick': '극진가라데 김재학',\n",
       "  'todayVisitor': '1',\n",
       "  'totalVisitor': '2,587',\n",
       "  'fans': '1,888'},\n",
       " {'rank': 19,\n",
       "  'nick': '운동하는 물리치료사',\n",
       "  'todayVisitor': '39',\n",
       "  'totalVisitor': '3.1만+',\n",
       "  'fans': '1,749'},\n",
       " {'rank': 20,\n",
       "  'nick': '필라엠',\n",
       "  'todayVisitor': '8',\n",
       "  'totalVisitor': '841',\n",
       "  'fans': '1,474'},\n",
       " {'rank': 21,\n",
       "  'nick': '태미요가',\n",
       "  'todayVisitor': '6',\n",
       "  'totalVisitor': '1,781',\n",
       "  'fans': '1,673'},\n",
       " {'rank': 22,\n",
       "  'nick': '고민수',\n",
       "  'todayVisitor': '0',\n",
       "  'totalVisitor': '885',\n",
       "  'fans': '400'},\n",
       " {'rank': 23,\n",
       "  'nick': '문이탄',\n",
       "  'todayVisitor': '0',\n",
       "  'totalVisitor': '1,508',\n",
       "  'fans': '817'},\n",
       " {'rank': 24,\n",
       "  'nick': '김형욱의 바디투마인드',\n",
       "  'todayVisitor': '1',\n",
       "  'totalVisitor': '1,691',\n",
       "  'fans': '558'},\n",
       " {'rank': 25,\n",
       "  'nick': 'MSG훈(박지훈)',\n",
       "  'todayVisitor': '0',\n",
       "  'totalVisitor': '2,729',\n",
       "  'fans': '651'},\n",
       " {'rank': 26,\n",
       "  'nick': '석토리',\n",
       "  'todayVisitor': '5',\n",
       "  'totalVisitor': '2,047',\n",
       "  'fans': '1,271'},\n",
       " {'rank': 27,\n",
       "  'nick': '컬러인바디',\n",
       "  'todayVisitor': '14',\n",
       "  'totalVisitor': '7,119',\n",
       "  'fans': '1,249'},\n",
       " {'rank': 28,\n",
       "  'nick': '방학동 헬스장 탐휘트니스 조용태 트레이너',\n",
       "  'todayVisitor': '2',\n",
       "  'totalVisitor': '3,448',\n",
       "  'fans': '1,686'},\n",
       " {'rank': 29,\n",
       "  'nick': '위드필라테스',\n",
       "  'todayVisitor': '3',\n",
       "  'totalVisitor': '806',\n",
       "  'fans': '640'},\n",
       " {'rank': 30,\n",
       "  'nick': '점핑피트니스',\n",
       "  'todayVisitor': '1',\n",
       "  'totalVisitor': '848',\n",
       "  'fans': '1,104'},\n",
       " {'rank': 31,\n",
       "  'nick': '스트레칭조이',\n",
       "  'todayVisitor': '1',\n",
       "  'totalVisitor': '580',\n",
       "  'fans': '1,745'},\n",
       " {'rank': 32,\n",
       "  'nick': '지니코치',\n",
       "  'todayVisitor': '3',\n",
       "  'totalVisitor': '2,304',\n",
       "  'fans': '790'},\n",
       " {'rank': 33,\n",
       "  'nick': 'yogakim',\n",
       "  'todayVisitor': '0',\n",
       "  'totalVisitor': '456',\n",
       "  'fans': '361'},\n",
       " {'rank': 34,\n",
       "  'nick': '김예슬',\n",
       "  'todayVisitor': '0',\n",
       "  'totalVisitor': '464',\n",
       "  'fans': '1,648'},\n",
       " {'rank': 35,\n",
       "  'nick': '지노진호',\n",
       "  'todayVisitor': '0',\n",
       "  'totalVisitor': '1,525',\n",
       "  'fans': '811'},\n",
       " {'rank': 36,\n",
       "  'nick': '핑크피그',\n",
       "  'todayVisitor': '2',\n",
       "  'totalVisitor': '209',\n",
       "  'fans': '396'},\n",
       " {'rank': 37,\n",
       "  'nick': '정도한 격투기TV',\n",
       "  'todayVisitor': '0',\n",
       "  'totalVisitor': '350',\n",
       "  'fans': '591'}]"
      ]
     },
     "execution_count": 40,
     "metadata": {},
     "output_type": "execute_result"
    }
   ],
   "source": [
    "influencerList"
   ]
  },
  {
   "cell_type": "code",
   "execution_count": 41,
   "metadata": {
    "scrolled": true
   },
   "outputs": [
    {
     "data": {
      "text/plain": [
       "37"
      ]
     },
     "execution_count": 41,
     "metadata": {},
     "output_type": "execute_result"
    }
   ],
   "source": [
    "len(influencerList)"
   ]
  },
  {
   "cell_type": "code",
   "execution_count": null,
   "metadata": {},
   "outputs": [],
   "source": [
    "driver.quit()"
   ]
  },
  {
   "cell_type": "code",
   "execution_count": null,
   "metadata": {},
   "outputs": [],
   "source": []
  },
  {
   "cell_type": "code",
   "execution_count": null,
   "metadata": {},
   "outputs": [],
   "source": []
  },
  {
   "cell_type": "code",
   "execution_count": null,
   "metadata": {},
   "outputs": [],
   "source": [
    "######################################## 뷰티풀숩사용 ##########################################"
   ]
  },
  {
   "cell_type": "code",
   "execution_count": null,
   "metadata": {},
   "outputs": [],
   "source": [
    "driver.find_element_by_css_selector('script[id=\"initialState\"]')"
   ]
  },
  {
   "cell_type": "code",
   "execution_count": null,
   "metadata": {},
   "outputs": [],
   "source": [
    "from bs4 import BeautifulSoup\n",
    "\n",
    "soup = BeautifulSoup(driver.page_source, 'lxml')"
   ]
  },
  {
   "cell_type": "code",
   "execution_count": null,
   "metadata": {},
   "outputs": [],
   "source": [
    "scp = [s for s in str(soup.find('script',{'id':'initialState'})).split(';') \\\n",
    " if '166022440647520' in str(s)][0] \n",
    "scp = scp.split(' = ')[1].strip()\n",
    "scp"
   ]
  },
  {
   "cell_type": "code",
   "execution_count": null,
   "metadata": {},
   "outputs": [],
   "source": [
    "import json"
   ]
  },
  {
   "cell_type": "code",
   "execution_count": null,
   "metadata": {},
   "outputs": [],
   "source": [
    "js = json.loads(scp)\n",
    "js"
   ]
  },
  {
   "cell_type": "code",
   "execution_count": null,
   "metadata": {
    "scrolled": true
   },
   "outputs": [],
   "source": [
    "js.keys()"
   ]
  },
  {
   "cell_type": "code",
   "execution_count": null,
   "metadata": {},
   "outputs": [],
   "source": []
  },
  {
   "cell_type": "code",
   "execution_count": null,
   "metadata": {},
   "outputs": [],
   "source": [
    "'{\"id\":166022691216256' in driver.page_source"
   ]
  },
  {
   "cell_type": "code",
   "execution_count": null,
   "metadata": {},
   "outputs": [],
   "source": [
    "driver.find_element_by_css_selector('#app > div.PCWrapper__root___2kEq5 > div > div > div:nth-child(2) > div > div.Profile__content_area___TQENY > div > div.ProfileContent__root___1rhLH.ProfileContent__profile_3___3abPI > div.ProfileContent__stats___12SFf > div:nth-child(1) > span').text"
   ]
  },
  {
   "cell_type": "code",
   "execution_count": null,
   "metadata": {},
   "outputs": [],
   "source": []
  },
  {
   "cell_type": "code",
   "execution_count": null,
   "metadata": {},
   "outputs": [],
   "source": [
    "todayVisitor = driver.find_element_by_css_selector(\"div#app > div > div > div > div:nth-child(1) > div > div:nth-child(1) > div > div:nth-child(2) > div > div\")"
   ]
  },
  {
   "cell_type": "code",
   "execution_count": null,
   "metadata": {},
   "outputs": [],
   "source": [
    "def crawl_info():\n",
    "    nick = driver.find_element_by_css_selector(\".naver-splugin\").get_attribute('data-title')"
   ]
  },
  {
   "cell_type": "code",
   "execution_count": null,
   "metadata": {},
   "outputs": [],
   "source": [
    "for c in ihrefs:\n",
    "    driver.get(c)\n",
    "    crawl_info()\n",
    "    time.sleep(2)"
   ]
  },
  {
   "cell_type": "code",
   "execution_count": null,
   "metadata": {},
   "outputs": [],
   "source": [
    "driver.quit()"
   ]
  }
 ],
 "metadata": {
  "kernelspec": {
   "display_name": "Python 3",
   "language": "python",
   "name": "python3"
  },
  "language_info": {
   "codemirror_mode": {
    "name": "ipython",
    "version": 3
   },
   "file_extension": ".py",
   "mimetype": "text/x-python",
   "name": "python",
   "nbconvert_exporter": "python",
   "pygments_lexer": "ipython3",
   "version": "3.8.5"
  }
 },
 "nbformat": 4,
 "nbformat_minor": 4
}
